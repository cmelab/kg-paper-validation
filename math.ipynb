{
 "cells": [
  {
   "cell_type": "code",
   "execution_count": null,
   "id": "e1f7abfc-5688-4fb0-93d3-027a0a6c5ec7",
   "metadata": {},
   "outputs": [],
   "source": []
  },
  {
   "cell_type": "code",
   "execution_count": 12,
   "id": "6ec53976-876e-4150-9855-ceebb951787e",
   "metadata": {},
   "outputs": [
    {
     "name": "stdout",
     "output_type": "stream",
     "text": [
      "Time in seconds per frame is: 1.88631e-15\n",
      "Length of side of a cube containing 7500 monomers of PPS in nm is: 7.77359\n",
      "The same length in units where sigma = 1 is: 2261.079\n"
     ]
    }
   ],
   "source": [
    "import numpy as np\n",
    "import math\n",
    "\n",
    "num_monomers = 7500\n",
    "density = 0.85\n",
    "\n",
    "# Determining time step required for PPS\n",
    "mass = 32.06\n",
    "sigma = 0.3438 * 10 ** - 9\n",
    "epsilon = 1065\n",
    "\n",
    "tau = np.sqrt((mass / 1000 * (sigma**2))/epsilon)\n",
    "time_per_frame = tau * 0.001\n",
    "print(\"Time in seconds per frame is:\", f\"{(time_per_frame):.6}\")\n",
    "\n",
    "# Determining volume of a box of PPS with 7,500 monomers at a density of 1.2 grams per cm^3\n",
    "volume = (mass / (6.022 * 10**23) * num_monomers) / density\n",
    "print(\"Length of side of a cube containing \"+str(num_monomers)+\" monomers of PPS in nm is:\", f\"{(np.cbrt(volume)*10**7):.6}\")\n",
    "print(\"The same length in units where sigma = 1 is:\", round((np.cbrt(volume)) / (sigma),3))\n"
   ]
  },
  {
   "cell_type": "code",
   "execution_count": null,
   "id": "98de8ce0-63d9-42a5-994f-913ae799d275",
   "metadata": {},
   "outputs": [],
   "source": []
  }
 ],
 "metadata": {
  "kernelspec": {
   "display_name": "Python 3 (ipykernel)",
   "language": "python",
   "name": "python3"
  },
  "language_info": {
   "codemirror_mode": {
    "name": "ipython",
    "version": 3
   },
   "file_extension": ".py",
   "mimetype": "text/x-python",
   "name": "python",
   "nbconvert_exporter": "python",
   "pygments_lexer": "ipython3",
   "version": "3.11.0"
  }
 },
 "nbformat": 4,
 "nbformat_minor": 5
}
